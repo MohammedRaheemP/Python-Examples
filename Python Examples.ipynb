{
 "cells": [
  {
   "cell_type": "markdown",
   "metadata": {},
   "source": [
    "# hello world"
   ]
  },
  {
   "cell_type": "markdown",
   "metadata": {},
   "source": [
    "to print 'hello world'"
   ]
  },
  {
   "cell_type": "code",
   "execution_count": 1,
   "metadata": {},
   "outputs": [
    {
     "name": "stdout",
     "output_type": "stream",
     "text": [
      "Hello World\n"
     ]
    }
   ],
   "source": [
    "print('Hello World')"
   ]
  },
  {
   "cell_type": "markdown",
   "metadata": {},
   "source": [
    "# Add 2 numbers"
   ]
  },
  {
   "cell_type": "code",
   "execution_count": 2,
   "metadata": {},
   "outputs": [
    {
     "name": "stdout",
     "output_type": "stream",
     "text": [
      "8\n"
     ]
    }
   ],
   "source": [
    "a=5\n",
    "b=3\n",
    "c=a+b\n",
    "print(c)"
   ]
  },
  {
   "cell_type": "markdown",
   "metadata": {},
   "source": [
    "# Square root of a Number"
   ]
  },
  {
   "cell_type": "code",
   "execution_count": 3,
   "metadata": {},
   "outputs": [
    {
     "name": "stdout",
     "output_type": "stream",
     "text": [
      "enter a number:25\n",
      "Square root of 25 is: 5.0\n"
     ]
    }
   ],
   "source": [
    "x=int(input('enter a number:'))\n",
    "print('Square root of {} is: {}'.format(x,x**(1/2)))"
   ]
  },
  {
   "cell_type": "markdown",
   "metadata": {},
   "source": [
    "# Area of the triangle"
   ]
  },
  {
   "cell_type": "markdown",
   "metadata": {},
   "source": [
    "Let a,b,c are the three sides of triangle"
   ]
  },
  {
   "cell_type": "code",
   "execution_count": 4,
   "metadata": {},
   "outputs": [],
   "source": [
    "a,b,c=3,4,5"
   ]
  },
  {
   "cell_type": "code",
   "execution_count": 5,
   "metadata": {},
   "outputs": [],
   "source": [
    "s=(a+b+c)/2            #semi-perimeter\n",
    "a=(s*(s-a)*(s-b)*(s-c))**(1/2)"
   ]
  },
  {
   "cell_type": "code",
   "execution_count": 6,
   "metadata": {},
   "outputs": [
    {
     "name": "stdout",
     "output_type": "stream",
     "text": [
      "area of triangle: 6.0\n"
     ]
    }
   ],
   "source": [
    "print('area of triangle:',a)"
   ]
  },
  {
   "cell_type": "markdown",
   "metadata": {},
   "source": [
    "# Solution of Quadratic equation"
   ]
  },
  {
   "cell_type": "markdown",
   "metadata": {},
   "source": [
    "ax***2+b*x+c=0"
   ]
  },
  {
   "cell_type": "code",
   "execution_count": 7,
   "metadata": {},
   "outputs": [],
   "source": [
    "import math\n",
    "a=1\n",
    "b=5\n",
    "c=6"
   ]
  },
  {
   "cell_type": "code",
   "execution_count": 8,
   "metadata": {},
   "outputs": [],
   "source": [
    "d=b**2-(4*a*c)\n",
    "x1=(-b+(math.sqrt(d)))/(2*a)\n",
    "x2=(-b-(math.sqrt(d)))/(2*a)"
   ]
  },
  {
   "cell_type": "code",
   "execution_count": 9,
   "metadata": {},
   "outputs": [
    {
     "name": "stdout",
     "output_type": "stream",
     "text": [
      "solutions of quadratic equation are -2.0 & -3.0 \n"
     ]
    }
   ],
   "source": [
    "print('solutions of quadratic equation are {} & {} '.format(x1,x2))"
   ]
  },
  {
   "cell_type": "markdown",
   "metadata": {},
   "source": [
    "# To swap two variables"
   ]
  },
  {
   "cell_type": "markdown",
   "metadata": {},
   "source": [
    "to swap each other"
   ]
  },
  {
   "cell_type": "code",
   "execution_count": 10,
   "metadata": {},
   "outputs": [
    {
     "name": "stdout",
     "output_type": "stream",
     "text": [
      "enter the first number:5\n",
      "enter the second number:10\n",
      "x after swap: 10\n",
      "y after swap: 5\n"
     ]
    }
   ],
   "source": [
    "x=int(input('enter the first number:'))\n",
    "y=int(input('enter the second number:'))\n",
    "\n",
    "temp=x            #just keep as temp b4 assign\n",
    "x=y\n",
    "y=temp\n",
    "\n",
    "print('x after swap:',x)\n",
    "print('y after swap:',y)"
   ]
  },
  {
   "cell_type": "markdown",
   "metadata": {},
   "source": [
    "# To generate a random number"
   ]
  },
  {
   "cell_type": "markdown",
   "metadata": {},
   "source": [
    "to generate a number between 5 and 15"
   ]
  },
  {
   "cell_type": "code",
   "execution_count": 11,
   "metadata": {},
   "outputs": [
    {
     "data": {
      "text/plain": [
       "12"
      ]
     },
     "execution_count": 11,
     "metadata": {},
     "output_type": "execute_result"
    }
   ],
   "source": [
    "import random\n",
    "random.randint(5,15)"
   ]
  },
  {
   "cell_type": "markdown",
   "metadata": {},
   "source": [
    "# To converts kilometers into miles"
   ]
  },
  {
   "cell_type": "code",
   "execution_count": 12,
   "metadata": {},
   "outputs": [
    {
     "name": "stdout",
     "output_type": "stream",
     "text": [
      "enter the kilometers:4\n",
      "4.0 kilometers is 2.485484 miles\n"
     ]
    }
   ],
   "source": [
    "x=float(input('enter the kilometers:'))\n",
    "miles=0.621371 * x\n",
    "print('{} kilometers is {} miles'.format(x,miles))"
   ]
  },
  {
   "cell_type": "markdown",
   "metadata": {},
   "source": [
    "# To converts Farenheit into Celsius and vice versa"
   ]
  },
  {
   "cell_type": "markdown",
   "metadata": {},
   "source": [
    "Celsius into Farenheit"
   ]
  },
  {
   "cell_type": "code",
   "execution_count": 13,
   "metadata": {},
   "outputs": [
    {
     "name": "stdout",
     "output_type": "stream",
     "text": [
      "enter the temperature in degree celsius:92\n",
      "temperature in Farenheit: 197.6\n"
     ]
    }
   ],
   "source": [
    "C=int(input('enter the temperature in degree celsius:'))\n",
    "F=(C*1.8)+32\n",
    "print('temperature in Farenheit:',F)"
   ]
  },
  {
   "cell_type": "markdown",
   "metadata": {},
   "source": [
    "Farenheit into Celsius"
   ]
  },
  {
   "cell_type": "code",
   "execution_count": 14,
   "metadata": {},
   "outputs": [
    {
     "name": "stdout",
     "output_type": "stream",
     "text": [
      "enter the temperature in degree Farenheit:90\n",
      "temperature in Celcius: 32.22222222222222\n"
     ]
    }
   ],
   "source": [
    "F=int(input('enter the temperature in degree Farenheit:'))\n",
    "C=(F-32)/1.8\n",
    "print('temperature in Celcius:',C)"
   ]
  },
  {
   "cell_type": "markdown",
   "metadata": {},
   "source": [
    "# To check the number positive or negative or zero"
   ]
  },
  {
   "cell_type": "code",
   "execution_count": 15,
   "metadata": {},
   "outputs": [
    {
     "name": "stdout",
     "output_type": "stream",
     "text": [
      "enter the number:32\n",
      "32 is positive\n"
     ]
    }
   ],
   "source": [
    "x=int(input('enter the number:'))\n",
    "if x>0:\n",
    "    print('{} is positive'.format(x))\n",
    "elif x<0:\n",
    "    print('{} is negative'. format(x))\n",
    "else:\n",
    "    print('zero')"
   ]
  },
  {
   "cell_type": "markdown",
   "metadata": {},
   "source": [
    "# To check the number even or odd "
   ]
  },
  {
   "cell_type": "code",
   "execution_count": 16,
   "metadata": {},
   "outputs": [
    {
     "name": "stdout",
     "output_type": "stream",
     "text": [
      "enter the number:21\n",
      "the number 21 is odd\n"
     ]
    }
   ],
   "source": [
    "x= int(input('enter the number:'))\n",
    "if x%2==0:\n",
    "    print('the number {} is even'.format(x))\n",
    "else:\n",
    "    print('the number {} is odd'.format(x))"
   ]
  },
  {
   "cell_type": "markdown",
   "metadata": {},
   "source": [
    "# To check leap year or not"
   ]
  },
  {
   "cell_type": "markdown",
   "metadata": {},
   "source": [
    "leap year concept:\n",
    "\n"
   ]
  },
  {
   "cell_type": "code",
   "execution_count": 17,
   "metadata": {},
   "outputs": [
    {
     "name": "stdout",
     "output_type": "stream",
     "text": [
      "enter the year:2012\n",
      "2012 is leap year\n"
     ]
    }
   ],
   "source": [
    "year=int(input('enter the year:'))\n",
    "\n",
    "if year%4==0:\n",
    "    if year%100==0:\n",
    "        if year%400==0:\n",
    "            print('{} is leap year'.format(year))\n",
    "        else:\n",
    "            print('{} is not leap year'.format(year))\n",
    "    else:\n",
    "        print('{} is leap year'.format(year))\n",
    "else:\n",
    "    print('{} is not leap year'.format(year))"
   ]
  },
  {
   "cell_type": "markdown",
   "metadata": {},
   "source": [
    "# Largest among 3 numbers"
   ]
  },
  {
   "cell_type": "code",
   "execution_count": 18,
   "metadata": {},
   "outputs": [
    {
     "name": "stdout",
     "output_type": "stream",
     "text": [
      "enter the first number:3\n",
      "enter the second number:6\n",
      "enter the third number:4\n",
      "6 is largest number\n"
     ]
    }
   ],
   "source": [
    "a=int(input('enter the first number:'))\n",
    "b=int(input('enter the second number:'))\n",
    "c=int(input('enter the third number:'))\n",
    "\n",
    "if a>b:\n",
    "    if a>c:\n",
    "        print('{} is largest number'.format(a))\n",
    "    else:\n",
    "        print('{} is largest number'.format(c))\n",
    "elif b>a:\n",
    "    if b>c:\n",
    "        print('{} is largest number'.format(b))\n",
    "    else:\n",
    "        print('{} is largest number'.format(c))\n",
    "\n",
    "    "
   ]
  },
  {
   "cell_type": "markdown",
   "metadata": {},
   "source": [
    "\n",
    "# To check whether the given number is Prime or not"
   ]
  },
  {
   "cell_type": "code",
   "execution_count": 19,
   "metadata": {},
   "outputs": [
    {
     "name": "stdout",
     "output_type": "stream",
     "text": [
      "enter the number:17\n",
      "the number 17 is prime\n"
     ]
    }
   ],
   "source": [
    "x=int(input('enter the number:'))\n",
    "\n",
    "if x>1:\n",
    "    for i in range(2,x):\n",
    "        if x%i==0:\n",
    "            print('the number {} not prime'.format(x))\n",
    "            break\n",
    "    else:\n",
    "        print('the number {} is prime'.format(x))\n",
    "else:\n",
    "    print('not prime')\n"
   ]
  },
  {
   "cell_type": "markdown",
   "metadata": {},
   "source": [
    "# To print all prime numbers between an interval"
   ]
  },
  {
   "cell_type": "markdown",
   "metadata": {},
   "source": [
    "to print all prime numbers between 10 & 30"
   ]
  },
  {
   "cell_type": "code",
   "execution_count": 20,
   "metadata": {},
   "outputs": [
    {
     "name": "stdout",
     "output_type": "stream",
     "text": [
      "11\n",
      "13\n",
      "17\n",
      "19\n",
      "23\n",
      "29\n",
      "31\n",
      "37\n",
      "41\n",
      "43\n"
     ]
    }
   ],
   "source": [
    "for i in range(10,44):\n",
    "    for j in range(2,i):\n",
    "        if i%j==0:\n",
    "            break\n",
    "    else:\n",
    "        print(i)\n",
    "        \n",
    "            "
   ]
  },
  {
   "cell_type": "markdown",
   "metadata": {},
   "source": [
    "# To print Factorial of a number, and using recursion"
   ]
  },
  {
   "cell_type": "code",
   "execution_count": 21,
   "metadata": {},
   "outputs": [
    {
     "name": "stdout",
     "output_type": "stream",
     "text": [
      "enter the number:5\n",
      "120\n"
     ]
    }
   ],
   "source": [
    "x=int(input('enter the number:'))\n",
    "factorial=1\n",
    "if x<0:\n",
    "    print('no factorial for negatives')\n",
    "elif x==0:\n",
    "    print('factorial of 0 is 1')\n",
    "else:\n",
    "    for i in range(1,x+1):\n",
    "        factorial=factorial*i\n",
    "    print(factorial)"
   ]
  },
  {
   "cell_type": "code",
   "execution_count": 22,
   "metadata": {},
   "outputs": [
    {
     "data": {
      "text/plain": [
       "120"
      ]
     },
     "execution_count": 22,
     "metadata": {},
     "output_type": "execute_result"
    }
   ],
   "source": [
    "#using recursion\n",
    "\n",
    "def rec_fact(num):\n",
    "    if num==0:\n",
    "        return 1\n",
    "    elif num==1:\n",
    "        return num\n",
    "    else:\n",
    "        return num*rec_fact(num-1)\n",
    "    \n",
    "rec_fact(5)"
   ]
  },
  {
   "cell_type": "markdown",
   "metadata": {},
   "source": [
    "# To create a multiplication table "
   ]
  },
  {
   "cell_type": "code",
   "execution_count": 23,
   "metadata": {},
   "outputs": [
    {
     "name": "stdout",
     "output_type": "stream",
     "text": [
      "enter the number that you need for table12\n",
      "12 x 1 = 12\n",
      "12 x 2 = 24\n",
      "12 x 3 = 36\n",
      "12 x 4 = 48\n",
      "12 x 5 = 60\n",
      "12 x 6 = 72\n",
      "12 x 7 = 84\n",
      "12 x 8 = 96\n",
      "12 x 9 = 108\n",
      "12 x 10 = 120\n"
     ]
    }
   ],
   "source": [
    "num=int(input('enter the number that you need for table'))\n",
    "\n",
    "for i in range(1,11):\n",
    "    print(num, 'x', i,'=', num*i)"
   ]
  },
  {
   "cell_type": "markdown",
   "metadata": {},
   "source": [
    "# To print fibonacci series , and using recursion"
   ]
  },
  {
   "cell_type": "code",
   "execution_count": 24,
   "metadata": {},
   "outputs": [
    {
     "name": "stdout",
     "output_type": "stream",
     "text": [
      "enter the limit:11\n",
      "0\n",
      "1\n",
      "1\n",
      "2\n",
      "3\n",
      "5\n",
      "8\n",
      "13\n",
      "21\n",
      "34\n",
      "55\n"
     ]
    }
   ],
   "source": [
    "n=int(input('enter the limit:'))\n",
    "n1,n2=0,1\n",
    "count=0\n",
    "\n",
    "if n<=0:\n",
    "    print('please enter the positive integer')\n",
    "elif n==1:\n",
    "    print(n1)\n",
    "else:\n",
    "    while count<n:\n",
    "        print(n1)\n",
    "        nth=n1+n2\n",
    "        n1=n2\n",
    "        n2=nth\n",
    "        count+=1\n"
   ]
  },
  {
   "cell_type": "code",
   "execution_count": 25,
   "metadata": {},
   "outputs": [
    {
     "name": "stdout",
     "output_type": "stream",
     "text": [
      "0\n",
      "1\n",
      "1\n",
      "2\n",
      "3\n",
      "5\n",
      "8\n",
      "13\n",
      "21\n",
      "34\n"
     ]
    }
   ],
   "source": [
    "#using recursion function\n",
    "\n",
    "def rec_fib(n):\n",
    "    if n<=1:\n",
    "        return n\n",
    "    else:\n",
    "        return rec_fib(n-1)+rec_fib(n-2)\n",
    "        \n",
    "nterms=10\n",
    "\n",
    "for i in range(nterms):\n",
    "    print(rec_fib(i))\n",
    "    \n",
    "    "
   ]
  },
  {
   "cell_type": "markdown",
   "metadata": {},
   "source": [
    "Recursion is a function by which can use like this.\n",
    "here, we are iterating the output by use of previously defined fn."
   ]
  },
  {
   "cell_type": "markdown",
   "metadata": {},
   "source": [
    "# To check whether the number is armstrong or not"
   ]
  },
  {
   "cell_type": "code",
   "execution_count": 26,
   "metadata": {},
   "outputs": [
    {
     "name": "stdout",
     "output_type": "stream",
     "text": [
      "enter the number:407\n",
      "armstrong\n"
     ]
    }
   ],
   "source": [
    "num=int(input('enter the number:'))\n",
    "number=num\n",
    "sum=0\n",
    "\n",
    "while number>0:\n",
    "    digit=number%10\n",
    "    sum+=digit**3\n",
    "    number//=10\n",
    "    \n",
    "if num==sum:\n",
    "    print('armstrong')\n",
    "else:\n",
    "    print('not armstrong')"
   ]
  },
  {
   "cell_type": "code",
   "execution_count": 27,
   "metadata": {},
   "outputs": [
    {
     "name": "stdout",
     "output_type": "stream",
     "text": [
      "armstrong\n"
     ]
    }
   ],
   "source": [
    "num=407\n",
    "temp=num\n",
    "\n",
    "a=(num%10)**3\n",
    "b=((num//10)%10)**3\n",
    "c=((num//100)%10)**3\n",
    "if temp==(a+b+c):\n",
    "    print('armstrong')\n",
    "else:\n",
    "    print('not')"
   ]
  },
  {
   "cell_type": "markdown",
   "metadata": {},
   "source": [
    "# To print sum of N natural numbers, and using recursion"
   ]
  },
  {
   "cell_type": "code",
   "execution_count": 28,
   "metadata": {},
   "outputs": [
    {
     "name": "stdout",
     "output_type": "stream",
     "text": [
      "enter the limit:10\n",
      "55\n"
     ]
    }
   ],
   "source": [
    "N=int(input('enter the limit:'))\n",
    "\n",
    "sum=0\n",
    "if N<0:\n",
    "    print('please enter positive Number')\n",
    "else:\n",
    "    while N>0:\n",
    "        sum+=N\n",
    "        N-=1\n",
    "    print(sum)"
   ]
  },
  {
   "cell_type": "code",
   "execution_count": 29,
   "metadata": {},
   "outputs": [],
   "source": [
    "#using recursion"
   ]
  },
  {
   "cell_type": "code",
   "execution_count": 30,
   "metadata": {},
   "outputs": [
    {
     "data": {
      "text/plain": [
       "55"
      ]
     },
     "execution_count": 30,
     "metadata": {},
     "output_type": "execute_result"
    }
   ],
   "source": [
    "def rec_sum(n):\n",
    "    if n<=1:\n",
    "        return n\n",
    "    else:\n",
    "        return n+rec_sum(n-1)\n",
    "    \n",
    "rec_sum(10)"
   ]
  },
  {
   "cell_type": "markdown",
   "metadata": {},
   "source": [
    "# Lambda - Anonymous function"
   ]
  },
  {
   "cell_type": "markdown",
   "metadata": {},
   "source": [
    "eg. to print power of 2"
   ]
  },
  {
   "cell_type": "code",
   "execution_count": 31,
   "metadata": {},
   "outputs": [
    {
     "name": "stdout",
     "output_type": "stream",
     "text": [
      "enter the limit:10\n",
      "2 raised to power 0 = 1\n",
      "2 raised to power 1 = 2\n",
      "2 raised to power 2 = 4\n",
      "2 raised to power 3 = 8\n",
      "2 raised to power 4 = 16\n",
      "2 raised to power 5 = 32\n",
      "2 raised to power 6 = 64\n",
      "2 raised to power 7 = 128\n",
      "2 raised to power 8 = 256\n",
      "2 raised to power 9 = 512\n",
      "2 raised to power 10 = 1024\n"
     ]
    }
   ],
   "source": [
    "N=int(input('enter the limit:'))\n",
    "\n",
    "#normal method\n",
    "for i in range(N+1):\n",
    "    result=2**i\n",
    "    print('2 raised to power',i,'=',result)"
   ]
  },
  {
   "cell_type": "code",
   "execution_count": 32,
   "metadata": {},
   "outputs": [
    {
     "name": "stdout",
     "output_type": "stream",
     "text": [
      "enter the limit:10\n",
      "2 raised to power 0 = 1\n",
      "2 raised to power 1 = 2\n",
      "2 raised to power 2 = 4\n",
      "2 raised to power 3 = 8\n",
      "2 raised to power 4 = 16\n",
      "2 raised to power 5 = 32\n",
      "2 raised to power 6 = 64\n",
      "2 raised to power 7 = 128\n",
      "2 raised to power 8 = 256\n",
      "2 raised to power 9 = 512\n",
      "2 raised to power 10 = 1024\n"
     ]
    }
   ],
   "source": [
    "#using Lambda\n",
    "N=int(input('enter the limit:'))\n",
    "\n",
    "result=list(map(lambda x:2**x,range(N+1)))\n",
    "\n",
    "for i in range(N+1):\n",
    "    print('2 raised to power',i,'=',result[i])\n",
    "    \n"
   ]
  },
  {
   "cell_type": "code",
   "execution_count": 33,
   "metadata": {},
   "outputs": [
    {
     "data": {
      "text/plain": [
       "[1, 2, 4, 8, 16, 32, 64, 128, 256, 512]"
      ]
     },
     "execution_count": 33,
     "metadata": {},
     "output_type": "execute_result"
    }
   ],
   "source": [
    "result=list(map(lambda x:2**x,range(10)))\n",
    "result"
   ]
  },
  {
   "cell_type": "code",
   "execution_count": 34,
   "metadata": {},
   "outputs": [
    {
     "data": {
      "text/plain": [
       "32"
      ]
     },
     "execution_count": 34,
     "metadata": {},
     "output_type": "execute_result"
    }
   ],
   "source": [
    "result=lambda x:2**x\n",
    "result(5)"
   ]
  },
  {
   "cell_type": "markdown",
   "metadata": {},
   "source": [
    "To print numbers that divisible by a number from the list\n",
    "using Lambda"
   ]
  },
  {
   "cell_type": "code",
   "execution_count": 35,
   "metadata": {},
   "outputs": [
    {
     "name": "stdout",
     "output_type": "stream",
     "text": [
      "[169, 130, 78, 260]\n"
     ]
    }
   ],
   "source": [
    "#number=13\n",
    "\n",
    "my_list=[12,69,72,169,130,78,82,110,260,332,]\n",
    "result=list(filter(lambda x:(x%13==0),my_list))\n",
    "\n",
    "print(result)"
   ]
  },
  {
   "cell_type": "code",
   "execution_count": 36,
   "metadata": {},
   "outputs": [
    {
     "name": "stdout",
     "output_type": "stream",
     "text": [
      "Numbers divisible by 13 are [65, 39, 221]\n"
     ]
    }
   ],
   "source": [
    "my_list = [12, 65, 54, 39, 102, 339, 221,]\n",
    "\n",
    "# use anonymous function to filter\n",
    "result = list(filter(lambda x: (x % 13 == 0), my_list))\n",
    "\n",
    "# display the result\n",
    "print(\"Numbers divisible by 13 are\",result)"
   ]
  },
  {
   "cell_type": "markdown",
   "metadata": {},
   "source": [
    "# to convert number systems"
   ]
  },
  {
   "cell_type": "markdown",
   "metadata": {},
   "source": [
    "Decimal,binary,octal,hexadecimal"
   ]
  },
  {
   "cell_type": "code",
   "execution_count": 37,
   "metadata": {},
   "outputs": [
    {
     "name": "stdout",
     "output_type": "stream",
     "text": [
      "0b101011000\n",
      "0o530\n",
      "0x158\n"
     ]
    }
   ],
   "source": [
    "dec=344\n",
    "print(bin(dec))\n",
    "print(oct(dec))\n",
    "print(hex(dec))"
   ]
  },
  {
   "cell_type": "markdown",
   "metadata": {},
   "source": [
    "# ASCII"
   ]
  },
  {
   "cell_type": "code",
   "execution_count": 38,
   "metadata": {},
   "outputs": [
    {
     "data": {
      "text/plain": [
       "112"
      ]
     },
     "execution_count": 38,
     "metadata": {},
     "output_type": "execute_result"
    }
   ],
   "source": [
    "ord('p')"
   ]
  },
  {
   "cell_type": "code",
   "execution_count": 39,
   "metadata": {},
   "outputs": [
    {
     "data": {
      "text/plain": [
       "['K', 'L', 'M', 'N', 'O', 'P', 'Q', 'R', 'S', 'T', 'U', 'V', 'W', 'X']"
      ]
     },
     "execution_count": 39,
     "metadata": {},
     "output_type": "execute_result"
    }
   ],
   "source": [
    "list(map(lambda x:chr(x),range(75,89)))"
   ]
  },
  {
   "cell_type": "code",
   "execution_count": 40,
   "metadata": {},
   "outputs": [
    {
     "data": {
      "text/plain": [
       "[97, 98, 99, 100]"
      ]
     },
     "execution_count": 40,
     "metadata": {},
     "output_type": "execute_result"
    }
   ],
   "source": [
    "list(map(lambda x:ord(x),['a','b','c','d']))"
   ]
  },
  {
   "cell_type": "markdown",
   "metadata": {},
   "source": [
    "# To find Hcf and Lcm"
   ]
  },
  {
   "cell_type": "markdown",
   "metadata": {},
   "source": [
    "# Hcf"
   ]
  },
  {
   "cell_type": "markdown",
   "metadata": {},
   "source": [
    "hcf of two numbers\n",
    "eg:12,14.......2"
   ]
  },
  {
   "cell_type": "code",
   "execution_count": 41,
   "metadata": {},
   "outputs": [
    {
     "name": "stdout",
     "output_type": "stream",
     "text": [
      "enter the first number:4\n",
      "enter the second number:8\n",
      "4\n"
     ]
    }
   ],
   "source": [
    "#let a be the first number\n",
    "a=int(input('enter the first number:'))\n",
    "#b is the second number\n",
    "b=int(input('enter the second number:'))\n",
    "\n",
    "#if a>0&b>0:\n",
    "if a<b:\n",
    "    small=a\n",
    "elif a>b:\n",
    "    small=b\n",
    "else:\n",
    "    print('No Hcf')\n",
    "for i in range(1,small+1):\n",
    "    if (a%i==0) and (b%i==0):\n",
    "        hcf=i\n",
    "print(hcf)\n",
    "    \n",
    "#else:\n",
    "    #print('no hcf')\n",
    "        \n",
    "        \n",
    "    "
   ]
  },
  {
   "cell_type": "code",
   "execution_count": 42,
   "metadata": {},
   "outputs": [],
   "source": [
    "#using function"
   ]
  },
  {
   "cell_type": "code",
   "execution_count": 43,
   "metadata": {},
   "outputs": [
    {
     "data": {
      "text/plain": [
       "8"
      ]
     },
     "execution_count": 43,
     "metadata": {},
     "output_type": "execute_result"
    }
   ],
   "source": [
    "\n",
    "\n",
    "def compute_hcf(num1,num2):\n",
    "    if num1>num2:\n",
    "        small=num2\n",
    "    else:\n",
    "        small=num1\n",
    "    for i in range(1,small+1):\n",
    "        if (num1%i==0) and (num2%i==0):\n",
    "            hcf=i\n",
    "    return hcf\n",
    "        \n",
    "compute_hcf(16,24)       "
   ]
  },
  {
   "cell_type": "markdown",
   "metadata": {},
   "source": [
    "# LCM"
   ]
  },
  {
   "cell_type": "code",
   "execution_count": 44,
   "metadata": {},
   "outputs": [],
   "source": [
    "def compute_lcm(num1,num2):\n",
    "    if num1>num2:\n",
    "        big=num1\n",
    "    else:\n",
    "        big=num2\n",
    "    for i in range(1,1000):\n",
    "        if((big*i)%num1==0) and ((big*i)%num2==0):\n",
    "            lcm=big*i\n",
    "            break\n",
    "    return lcm"
   ]
  },
  {
   "cell_type": "code",
   "execution_count": 45,
   "metadata": {},
   "outputs": [
    {
     "data": {
      "text/plain": [
       "216"
      ]
     },
     "execution_count": 45,
     "metadata": {},
     "output_type": "execute_result"
    }
   ],
   "source": [
    "compute_lcm(24,54)"
   ]
  },
  {
   "cell_type": "markdown",
   "metadata": {},
   "source": [
    "# To find factors of a number"
   ]
  },
  {
   "cell_type": "code",
   "execution_count": 46,
   "metadata": {},
   "outputs": [
    {
     "name": "stdout",
     "output_type": "stream",
     "text": [
      "enter the number:128\n",
      "1\n",
      "2\n",
      "4\n",
      "8\n",
      "16\n",
      "32\n",
      "64\n",
      "128\n"
     ]
    }
   ],
   "source": [
    "x=int(input('enter the number:'))\n",
    "\n",
    "for i in range(1,x+1):\n",
    "    if (x%i)==0:\n",
    "        print(i)"
   ]
  },
  {
   "cell_type": "code",
   "execution_count": 47,
   "metadata": {},
   "outputs": [
    {
     "name": "stdout",
     "output_type": "stream",
     "text": [
      "1\n",
      "2\n",
      "4\n",
      "8\n",
      "16\n"
     ]
    }
   ],
   "source": [
    "#in function\n",
    "\n",
    "def print_factors(number):\n",
    "    for i in range(1,number+1):\n",
    "        if (number%i)==0:\n",
    "            print(i)\n",
    "        \n",
    "print_factors(16)"
   ]
  },
  {
   "cell_type": "markdown",
   "metadata": {},
   "source": [
    "# To make simple calculator using choice"
   ]
  },
  {
   "cell_type": "code",
   "execution_count": 48,
   "metadata": {
    "scrolled": true
   },
   "outputs": [
    {
     "name": "stdout",
     "output_type": "stream",
     "text": [
      "enter the first number:23\n",
      "enter the choice:%\n",
      "enter the second number:7\n",
      "23.0 % 7.0 = 2.0\n"
     ]
    }
   ],
   "source": [
    "def add(num1,num2):\n",
    "    return num1+num2\n",
    "def subtract(num1,num2):\n",
    "    return num1-num2\n",
    "def multiply(num1,num2):\n",
    "    return num1*num2\n",
    "def division(num1,num2):\n",
    "    return num1/num2\n",
    "def reminder(num1,num2):\n",
    "    return num1%num2\n",
    "def floordivider(num1,num2):\n",
    "    return num1//num2\n",
    "def power(num1,num2):\n",
    "    return num1**num2\n",
    "\n",
    "num1=float(input('enter the first number:'))\n",
    "\n",
    "choice=input('enter the choice:')\n",
    "\n",
    "num2=float(input('enter the second number:'))\n",
    "\n",
    "if choice=='+':\n",
    "    print(num1,'+',num2,'=',add(num1,num2))\n",
    "elif choice=='-':\n",
    "    print(num1,'-',num2,'=',subtract(num1,num2))\n",
    "elif choice=='*':\n",
    "    print(num1,'*',num2,'=',multiply(num1,num2))\n",
    "elif choice=='/':\n",
    "    print(num1,'/',num2,'=',division(num1,num2))\n",
    "elif choice=='%':\n",
    "    print(num1,'%',num2,'=',reminder(num1,num2))\n",
    "elif choice=='//':\n",
    "    print(num1,'//',num2,'=',floordivider(num1,num2))\n",
    "elif choice=='**':\n",
    "    print(num1,'**',num2,'=',power(num1,num2))\n",
    "else:\n",
    "    print('Invalid')"
   ]
  },
  {
   "cell_type": "markdown",
   "metadata": {},
   "source": [
    "# To shuffle deck of cards"
   ]
  },
  {
   "cell_type": "code",
   "execution_count": 49,
   "metadata": {},
   "outputs": [],
   "source": [
    "import itertools,random"
   ]
  },
  {
   "cell_type": "code",
   "execution_count": 50,
   "metadata": {},
   "outputs": [],
   "source": [
    "k=list(itertools.product(range(1,14),['Spade','Heart','Diamond','Club']))"
   ]
  },
  {
   "cell_type": "code",
   "execution_count": 51,
   "metadata": {},
   "outputs": [],
   "source": [
    "random.shuffle(k)"
   ]
  },
  {
   "cell_type": "code",
   "execution_count": 52,
   "metadata": {},
   "outputs": [
    {
     "data": {
      "text/plain": [
       "52"
      ]
     },
     "execution_count": 52,
     "metadata": {},
     "output_type": "execute_result"
    }
   ],
   "source": [
    "len(k)"
   ]
  },
  {
   "cell_type": "code",
   "execution_count": 53,
   "metadata": {},
   "outputs": [
    {
     "data": {
      "text/plain": [
       "[(5, 'Diamond'),\n",
       " (8, 'Club'),\n",
       " (1, 'Club'),\n",
       " (11, 'Heart'),\n",
       " (4, 'Heart'),\n",
       " (2, 'Diamond'),\n",
       " (4, 'Club'),\n",
       " (13, 'Club'),\n",
       " (12, 'Diamond'),\n",
       " (3, 'Club'),\n",
       " (1, 'Spade'),\n",
       " (7, 'Diamond'),\n",
       " (10, 'Heart'),\n",
       " (6, 'Diamond'),\n",
       " (9, 'Club'),\n",
       " (9, 'Heart'),\n",
       " (8, 'Heart'),\n",
       " (12, 'Club'),\n",
       " (2, 'Heart'),\n",
       " (10, 'Diamond'),\n",
       " (11, 'Spade'),\n",
       " (7, 'Heart'),\n",
       " (10, 'Spade'),\n",
       " (13, 'Spade'),\n",
       " (13, 'Diamond'),\n",
       " (11, 'Club'),\n",
       " (4, 'Diamond'),\n",
       " (6, 'Spade'),\n",
       " (1, 'Diamond'),\n",
       " (2, 'Spade'),\n",
       " (7, 'Club'),\n",
       " (12, 'Heart'),\n",
       " (5, 'Heart'),\n",
       " (11, 'Diamond'),\n",
       " (3, 'Spade'),\n",
       " (8, 'Diamond'),\n",
       " (7, 'Spade'),\n",
       " (1, 'Heart'),\n",
       " (6, 'Club'),\n",
       " (12, 'Spade'),\n",
       " (8, 'Spade'),\n",
       " (3, 'Heart'),\n",
       " (9, 'Spade'),\n",
       " (6, 'Heart'),\n",
       " (13, 'Heart'),\n",
       " (10, 'Club'),\n",
       " (4, 'Spade'),\n",
       " (9, 'Diamond'),\n",
       " (3, 'Diamond'),\n",
       " (2, 'Club'),\n",
       " (5, 'Club'),\n",
       " (5, 'Spade')]"
      ]
     },
     "execution_count": 53,
     "metadata": {},
     "output_type": "execute_result"
    }
   ],
   "source": [
    "k"
   ]
  },
  {
   "cell_type": "code",
   "execution_count": 54,
   "metadata": {},
   "outputs": [
    {
     "data": {
      "text/plain": [
       "'Heart'"
      ]
     },
     "execution_count": 54,
     "metadata": {},
     "output_type": "execute_result"
    }
   ],
   "source": [
    "k[32][1]"
   ]
  },
  {
   "cell_type": "code",
   "execution_count": 55,
   "metadata": {},
   "outputs": [
    {
     "data": {
      "text/plain": [
       "7"
      ]
     },
     "execution_count": 55,
     "metadata": {},
     "output_type": "execute_result"
    }
   ],
   "source": [
    "k[36][0]"
   ]
  },
  {
   "cell_type": "markdown",
   "metadata": {},
   "source": [
    "# To print calendar"
   ]
  },
  {
   "cell_type": "code",
   "execution_count": 56,
   "metadata": {},
   "outputs": [
    {
     "name": "stdout",
     "output_type": "stream",
     "text": [
      "     July 1992\n",
      "Mo Tu We Th Fr Sa Su\n",
      "       1  2  3  4  5\n",
      " 6  7  8  9 10 11 12\n",
      "13 14 15 16 17 18 19\n",
      "20 21 22 23 24 25 26\n",
      "27 28 29 30 31\n",
      "\n"
     ]
    }
   ],
   "source": [
    "import calendar\n",
    "print(calendar.month(1992,7))"
   ]
  },
  {
   "cell_type": "code",
   "execution_count": 57,
   "metadata": {},
   "outputs": [
    {
     "name": "stdout",
     "output_type": "stream",
     "text": [
      "     July 2023\n",
      "Mo Tu We Th Fr Sa Su\n",
      "                1  2\n",
      " 3  4  5  6  7  8  9\n",
      "10 11 12 13 14 15 16\n",
      "17 18 19 20 21 22 23\n",
      "24 25 26 27 28 29 30\n",
      "31\n",
      "\n"
     ]
    }
   ],
   "source": [
    "print(calendar.month(2023,7))"
   ]
  },
  {
   "cell_type": "markdown",
   "metadata": {},
   "source": [
    "# To convert decimal to binary using recursion"
   ]
  },
  {
   "cell_type": "code",
   "execution_count": 58,
   "metadata": {},
   "outputs": [
    {
     "name": "stdout",
     "output_type": "stream",
     "text": [
      "100010"
     ]
    }
   ],
   "source": [
    "def rec_conv(num):\n",
    "    if num>1:\n",
    "        rec_conv(num//2)\n",
    "    print(num%2,end='')\n",
    "    \n",
    "rec_conv(34)"
   ]
  },
  {
   "cell_type": "code",
   "execution_count": 59,
   "metadata": {},
   "outputs": [
    {
     "data": {
      "text/plain": [
       "3"
      ]
     },
     "execution_count": 59,
     "metadata": {},
     "output_type": "execute_result"
    }
   ],
   "source": [
    "import random,numpy\n",
    "random.randint(3,4)"
   ]
  },
  {
   "cell_type": "code",
   "execution_count": 60,
   "metadata": {},
   "outputs": [],
   "source": [
    "x=[[1,2,3],[2,3,4],[3,4,5]]"
   ]
  },
  {
   "cell_type": "code",
   "execution_count": 61,
   "metadata": {},
   "outputs": [
    {
     "data": {
      "text/plain": [
       "3"
      ]
     },
     "execution_count": 61,
     "metadata": {},
     "output_type": "execute_result"
    }
   ],
   "source": [
    "len(x)"
   ]
  },
  {
   "cell_type": "markdown",
   "metadata": {},
   "source": [
    "# Matrix addition "
   ]
  },
  {
   "cell_type": "code",
   "execution_count": 62,
   "metadata": {},
   "outputs": [],
   "source": [
    "x=[[1,2,3],[2,3,4],[3,4,5]]\n",
    "y=[[11,12,12],[12,13,14],[13,14,15]]\n",
    "result=[[0,0,0],[0,0,0],[0,0,0]]"
   ]
  },
  {
   "cell_type": "code",
   "execution_count": 63,
   "metadata": {},
   "outputs": [],
   "source": [
    "for i in range(len(x)):\n",
    "    for j in range(len(x)):\n",
    "        result[i][j]=x[i][j]+y[i][j]"
   ]
  },
  {
   "cell_type": "code",
   "execution_count": 64,
   "metadata": {
    "scrolled": true
   },
   "outputs": [
    {
     "name": "stdout",
     "output_type": "stream",
     "text": [
      "[[12, 14, 15], [14, 16, 18], [16, 18, 20]]\n"
     ]
    }
   ],
   "source": [
    "print(result)"
   ]
  },
  {
   "cell_type": "code",
   "execution_count": 65,
   "metadata": {},
   "outputs": [
    {
     "data": {
      "text/plain": [
       "array([[ 6,  8, 10],\n",
       "       [ 9, 11, 13]])"
      ]
     },
     "execution_count": 65,
     "metadata": {},
     "output_type": "execute_result"
    }
   ],
   "source": [
    "#for addition by using numpy\n",
    "\n",
    "import numpy as np\n",
    "x=np.array([[1,2,3],[2,3,4]])\n",
    "y=np.array([[5,6,7],[7,8,9]])\n",
    "x+y"
   ]
  },
  {
   "cell_type": "markdown",
   "metadata": {},
   "source": [
    "# Matrix multiplication"
   ]
  },
  {
   "cell_type": "code",
   "execution_count": 67,
   "metadata": {},
   "outputs": [],
   "source": [
    "X = [[12,7,3],\n",
    "    [4 ,5,6],\n",
    "    [7 ,8,9]]\n",
    "\n",
    "Y = [[5,8,1,2],\n",
    "    [6,7,3,0],\n",
    "    [4,5,9,1]]\n",
    "\n",
    "result = [[0,0,0,0],\n",
    "         [0,0,0,0],\n",
    "         [0,0,0,0]]"
   ]
  },
  {
   "cell_type": "code",
   "execution_count": 68,
   "metadata": {},
   "outputs": [],
   "source": [
    "# iterate through rows of X\n",
    "for i in range(len(X)):\n",
    "   # iterate through columns of Y\n",
    "   for j in range(len(Y[0])):\n",
    "       # iterate through rows of Y\n",
    "       for k in range(len(Y)):\n",
    "           result[i][j] += X[i][k] * Y[k][j]"
   ]
  },
  {
   "cell_type": "code",
   "execution_count": 69,
   "metadata": {},
   "outputs": [
    {
     "data": {
      "text/plain": [
       "[[114, 160, 60, 27], [74, 97, 73, 14], [119, 157, 112, 23]]"
      ]
     },
     "execution_count": 69,
     "metadata": {},
     "output_type": "execute_result"
    }
   ],
   "source": [
    "result"
   ]
  },
  {
   "cell_type": "code",
   "execution_count": 70,
   "metadata": {},
   "outputs": [
    {
     "data": {
      "text/plain": [
       "array([[28, 28],\n",
       "       [43, 40]])"
      ]
     },
     "execution_count": 70,
     "metadata": {},
     "output_type": "execute_result"
    }
   ],
   "source": [
    "#using numpy\n",
    "x=np.array([[1,2,3],[2,3,4]])\n",
    "y=np.array([[7,2],[3,4],[5,6]])\n",
    "np.dot(x,y)"
   ]
  },
  {
   "cell_type": "markdown",
   "metadata": {},
   "source": [
    "# Transpose of matrix"
   ]
  },
  {
   "cell_type": "code",
   "execution_count": 71,
   "metadata": {},
   "outputs": [],
   "source": [
    "x=[[1,2,3],[12,13,14]]"
   ]
  },
  {
   "cell_type": "code",
   "execution_count": 72,
   "metadata": {},
   "outputs": [],
   "source": [
    "T=[[0,0],[0,0],[0,0]]"
   ]
  },
  {
   "cell_type": "code",
   "execution_count": 73,
   "metadata": {},
   "outputs": [],
   "source": [
    "for i in range(len(x)):\n",
    "    for j in range(len(x[0])):\n",
    "        T[j][i]=x[i][j]"
   ]
  },
  {
   "cell_type": "code",
   "execution_count": 74,
   "metadata": {},
   "outputs": [
    {
     "data": {
      "text/plain": [
       "[[1, 12], [2, 13], [3, 14]]"
      ]
     },
     "execution_count": 74,
     "metadata": {},
     "output_type": "execute_result"
    }
   ],
   "source": [
    "T"
   ]
  },
  {
   "cell_type": "markdown",
   "metadata": {},
   "source": [
    "# To check whether the string is palindrome or not"
   ]
  },
  {
   "cell_type": "code",
   "execution_count": 75,
   "metadata": {},
   "outputs": [],
   "source": [
    "stri='MaLAyPlaM'\n",
    "rev_str=reversed(stri)"
   ]
  },
  {
   "cell_type": "code",
   "execution_count": 76,
   "metadata": {},
   "outputs": [
    {
     "data": {
      "text/plain": [
       "False"
      ]
     },
     "execution_count": 76,
     "metadata": {},
     "output_type": "execute_result"
    }
   ],
   "source": [
    "list(rev_str)==list(stri)"
   ]
  },
  {
   "cell_type": "code",
   "execution_count": 77,
   "metadata": {},
   "outputs": [
    {
     "data": {
      "text/plain": [
       "'malayplam'"
      ]
     },
     "execution_count": 77,
     "metadata": {},
     "output_type": "execute_result"
    }
   ],
   "source": [
    "stri.casefold()"
   ]
  },
  {
   "cell_type": "code",
   "execution_count": 78,
   "metadata": {},
   "outputs": [],
   "source": [
    "a=['a','b','c']\n",
    "b=['a','b','c']"
   ]
  },
  {
   "cell_type": "code",
   "execution_count": 79,
   "metadata": {},
   "outputs": [
    {
     "data": {
      "text/plain": [
       "True"
      ]
     },
     "execution_count": 79,
     "metadata": {},
     "output_type": "execute_result"
    }
   ],
   "source": [
    "a==b"
   ]
  },
  {
   "cell_type": "code",
   "execution_count": 80,
   "metadata": {},
   "outputs": [],
   "source": [
    "x='malayalam'\n",
    "y=reversed(x)"
   ]
  },
  {
   "cell_type": "code",
   "execution_count": 81,
   "metadata": {},
   "outputs": [
    {
     "name": "stdout",
     "output_type": "stream",
     "text": [
      "string \"x\" is palindrome\n"
     ]
    }
   ],
   "source": [
    "if (list(x)==list(y)):\n",
    "    print('string \"x\" is palindrome')\n",
    "else:\n",
    "    print('not palindrome')"
   ]
  },
  {
   "cell_type": "markdown",
   "metadata": {},
   "source": [
    "# To remove punctuations from a string"
   ]
  },
  {
   "cell_type": "code",
   "execution_count": 82,
   "metadata": {},
   "outputs": [],
   "source": [
    "punctuations = '''!()-[]{};:'\"\\,<>./?@#$%^&*_~'''"
   ]
  },
  {
   "cell_type": "code",
   "execution_count": 83,
   "metadata": {},
   "outputs": [],
   "source": [
    "my_str=\"Hello!!!, he said ---and went.\""
   ]
  },
  {
   "cell_type": "code",
   "execution_count": 84,
   "metadata": {},
   "outputs": [
    {
     "name": "stdout",
     "output_type": "stream",
     "text": [
      "H\n",
      "e\n",
      "l\n",
      "l\n",
      "o\n",
      " \n",
      "h\n",
      "e\n",
      " \n",
      "s\n",
      "a\n",
      "i\n",
      "d\n",
      " \n",
      "a\n",
      "n\n",
      "d\n",
      " \n",
      "w\n",
      "e\n",
      "n\n",
      "t\n"
     ]
    }
   ],
   "source": [
    "for char in my_str:\n",
    "    if char not in punctuations:\n",
    "        print(char)"
   ]
  },
  {
   "cell_type": "markdown",
   "metadata": {},
   "source": [
    "# To sort words in albhabetic order"
   ]
  },
  {
   "cell_type": "code",
   "execution_count": 85,
   "metadata": {},
   "outputs": [],
   "source": [
    "my_words='my name is mohammed raheem and coming from koramangala'"
   ]
  },
  {
   "cell_type": "code",
   "execution_count": 86,
   "metadata": {},
   "outputs": [],
   "source": [
    "splitx=my_words.split()"
   ]
  },
  {
   "cell_type": "code",
   "execution_count": 87,
   "metadata": {},
   "outputs": [],
   "source": [
    "splitx.sort()"
   ]
  },
  {
   "cell_type": "code",
   "execution_count": 88,
   "metadata": {},
   "outputs": [
    {
     "name": "stdout",
     "output_type": "stream",
     "text": [
      "and\n",
      "coming\n",
      "from\n",
      "is\n",
      "koramangala\n",
      "mohammed\n",
      "my\n",
      "name\n",
      "raheem\n"
     ]
    }
   ],
   "source": [
    "for word in splitx:\n",
    "    print(word)"
   ]
  },
  {
   "cell_type": "markdown",
   "metadata": {},
   "source": [
    "# Operations between two sets"
   ]
  },
  {
   "cell_type": "code",
   "execution_count": 89,
   "metadata": {},
   "outputs": [],
   "source": [
    "a={1,2,3,4,5}\n",
    "b={2,4,7,8,9}"
   ]
  },
  {
   "cell_type": "code",
   "execution_count": 90,
   "metadata": {},
   "outputs": [
    {
     "data": {
      "text/plain": [
       "{1, 2, 3, 4, 5, 7, 8, 9}"
      ]
     },
     "execution_count": 90,
     "metadata": {},
     "output_type": "execute_result"
    }
   ],
   "source": [
    "#union\n",
    "a|b"
   ]
  },
  {
   "cell_type": "code",
   "execution_count": 91,
   "metadata": {},
   "outputs": [
    {
     "data": {
      "text/plain": [
       "{2, 4}"
      ]
     },
     "execution_count": 91,
     "metadata": {},
     "output_type": "execute_result"
    }
   ],
   "source": [
    "#intersection\n",
    "a&b"
   ]
  },
  {
   "cell_type": "code",
   "execution_count": 92,
   "metadata": {},
   "outputs": [
    {
     "data": {
      "text/plain": [
       "{1, 3, 5}"
      ]
     },
     "execution_count": 92,
     "metadata": {},
     "output_type": "execute_result"
    }
   ],
   "source": [
    "#difference\n",
    "a-b"
   ]
  },
  {
   "cell_type": "code",
   "execution_count": 93,
   "metadata": {},
   "outputs": [
    {
     "data": {
      "text/plain": [
       "{1, 3, 5, 7, 8, 9}"
      ]
     },
     "execution_count": 93,
     "metadata": {},
     "output_type": "execute_result"
    }
   ],
   "source": [
    "#symmetric difference\n",
    "a^b"
   ]
  },
  {
   "cell_type": "markdown",
   "metadata": {},
   "source": [
    "# To count vowels in a string"
   ]
  },
  {
   "cell_type": "code",
   "execution_count": 94,
   "metadata": {},
   "outputs": [],
   "source": [
    "ip_str = 'Hello, have you tried our tutorial section yet?'\n",
    "vowels = 'aeiou'\n",
    "\n",
    "ip_strs=list(ip_str)\n",
    "vowelss=list(vowels)\n",
    "\n"
   ]
  },
  {
   "cell_type": "code",
   "execution_count": 95,
   "metadata": {},
   "outputs": [
    {
     "name": "stdout",
     "output_type": "stream",
     "text": [
      "a : 2\n",
      "e : 5\n",
      "i : 3\n",
      "o : 5\n",
      "u : 3\n"
     ]
    }
   ],
   "source": [
    "for i in range(len(vowelss)):\n",
    "    print(vowelss[i],':',ip_strs.count(vowelss[i]))"
   ]
  },
  {
   "cell_type": "code",
   "execution_count": null,
   "metadata": {},
   "outputs": [],
   "source": []
  }
 ],
 "metadata": {
  "kernelspec": {
   "display_name": "Python 3",
   "language": "python",
   "name": "python3"
  },
  "language_info": {
   "codemirror_mode": {
    "name": "ipython",
    "version": 3
   },
   "file_extension": ".py",
   "mimetype": "text/x-python",
   "name": "python",
   "nbconvert_exporter": "python",
   "pygments_lexer": "ipython3",
   "version": "3.7.4"
  }
 },
 "nbformat": 4,
 "nbformat_minor": 2
}
